import pandas as pd


def load_data(file_path):
    """
    Loads data from an Excel file with enhanced error handling.

    This function attempts to read an Excel file from the specified file path using a context manager to ensure proper
    resource management. It handles common errors, including missing files and unexpected exceptions.

    Parameters:
    file_path (str): The path to the Excel file to be loaded.

    Returns:
    pandas.DataFrame or None: A DataFrame if the Excel file is successfully loaded. Returns None if an error occurs,
    along with an appropriate error message.

    Raises:
    None: All exceptions are handled internally.
    """
    try:
        with open(file_path, 'rb') as file:
            data = pd.read_excel(file)
    except FileNotFoundError:
        print(f"Error: The file at {file_path} could not be found.")
        return None
    except Exception as e:
        print(f"An unexpected error occurred: {e}")
        return None
    return data

file_path = "E:\\train4.xlsx"

df = load_data(file_path)

if df is not None:
    print("Data loaded successfully!")
else:
    print("Data could not be loaded.")
Data loaded successfully!
